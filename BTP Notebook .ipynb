{
 "cells": [
  {
   "cell_type": "markdown",
   "id": "7f2bbd46",
   "metadata": {},
   "source": [
    "# Importing Libraries "
   ]
  },
  {
   "cell_type": "code",
   "execution_count": 184,
   "id": "d92523e4",
   "metadata": {},
   "outputs": [],
   "source": [
    "import pandas as pd\n",
    "import numpy as np\n",
    "import matplotlib.pyplot as plt\n",
    "import seaborn as sns"
   ]
  },
  {
   "cell_type": "markdown",
   "id": "85bdca4a",
   "metadata": {},
   "source": [
    "# Loading Dataset"
   ]
  },
  {
   "cell_type": "code",
   "execution_count": 185,
   "id": "15b3082b",
   "metadata": {},
   "outputs": [],
   "source": [
    "data= pd.read_csv('data.csv')"
   ]
  },
  {
   "cell_type": "markdown",
   "id": "be9dff5f",
   "metadata": {},
   "source": [
    "# EDA "
   ]
  },
  {
   "cell_type": "code",
   "execution_count": 186,
   "id": "bd692a10",
   "metadata": {},
   "outputs": [
    {
     "data": {
      "text/html": [
       "<div>\n",
       "<style scoped>\n",
       "    .dataframe tbody tr th:only-of-type {\n",
       "        vertical-align: middle;\n",
       "    }\n",
       "\n",
       "    .dataframe tbody tr th {\n",
       "        vertical-align: top;\n",
       "    }\n",
       "\n",
       "    .dataframe thead th {\n",
       "        text-align: right;\n",
       "    }\n",
       "</style>\n",
       "<table border=\"1\" class=\"dataframe\">\n",
       "  <thead>\n",
       "    <tr style=\"text-align: right;\">\n",
       "      <th></th>\n",
       "      <th>time</th>\n",
       "      <th>T_in</th>\n",
       "      <th>T_amb</th>\n",
       "      <th>T_out</th>\n",
       "      <th>Q</th>\n",
       "    </tr>\n",
       "  </thead>\n",
       "  <tbody>\n",
       "    <tr>\n",
       "      <th>0</th>\n",
       "      <td>0</td>\n",
       "      <td>34.1</td>\n",
       "      <td>39.6</td>\n",
       "      <td>32.5</td>\n",
       "      <td>5020.8</td>\n",
       "    </tr>\n",
       "    <tr>\n",
       "      <th>1</th>\n",
       "      <td>10</td>\n",
       "      <td>33.5</td>\n",
       "      <td>39.6</td>\n",
       "      <td>31.3</td>\n",
       "      <td>6903.6</td>\n",
       "    </tr>\n",
       "    <tr>\n",
       "      <th>2</th>\n",
       "      <td>20</td>\n",
       "      <td>34.2</td>\n",
       "      <td>39.6</td>\n",
       "      <td>30.6</td>\n",
       "      <td>11296.8</td>\n",
       "    </tr>\n",
       "    <tr>\n",
       "      <th>3</th>\n",
       "      <td>30</td>\n",
       "      <td>36.2</td>\n",
       "      <td>39.6</td>\n",
       "      <td>30.1</td>\n",
       "      <td>19141.8</td>\n",
       "    </tr>\n",
       "    <tr>\n",
       "      <th>4</th>\n",
       "      <td>40</td>\n",
       "      <td>37.0</td>\n",
       "      <td>39.8</td>\n",
       "      <td>29.6</td>\n",
       "      <td>23221.2</td>\n",
       "    </tr>\n",
       "  </tbody>\n",
       "</table>\n",
       "</div>"
      ],
      "text/plain": [
       "   time  T_in  T_amb  T_out        Q\n",
       "0     0  34.1   39.6   32.5   5020.8\n",
       "1    10  33.5   39.6   31.3   6903.6\n",
       "2    20  34.2   39.6   30.6  11296.8\n",
       "3    30  36.2   39.6   30.1  19141.8\n",
       "4    40  37.0   39.8   29.6  23221.2"
      ]
     },
     "execution_count": 186,
     "metadata": {},
     "output_type": "execute_result"
    }
   ],
   "source": [
    "# This is how the data looks like\n",
    "data.head()"
   ]
  },
  {
   "cell_type": "code",
   "execution_count": 187,
   "id": "7d4aab31",
   "metadata": {},
   "outputs": [],
   "source": [
    "# Dropping Column of Q \n",
    "data= data.drop(['Q'], axis=1)"
   ]
  },
  {
   "cell_type": "code",
   "execution_count": 188,
   "id": "6e9d29c6",
   "metadata": {},
   "outputs": [
    {
     "name": "stdout",
     "output_type": "stream",
     "text": [
      "<class 'pandas.core.frame.DataFrame'>\n",
      "RangeIndex: 8484 entries, 0 to 8483\n",
      "Data columns (total 4 columns):\n",
      " #   Column  Non-Null Count  Dtype  \n",
      "---  ------  --------------  -----  \n",
      " 0   time    8484 non-null   int64  \n",
      " 1   T_in    8484 non-null   float64\n",
      " 2   T_amb   8484 non-null   float64\n",
      " 3   T_out   8484 non-null   float64\n",
      "dtypes: float64(3), int64(1)\n",
      "memory usage: 265.2 KB\n"
     ]
    }
   ],
   "source": [
    "# Check the data's information \n",
    "data.info()"
   ]
  },
  {
   "cell_type": "code",
   "execution_count": 189,
   "id": "1a0c215e",
   "metadata": {},
   "outputs": [
    {
     "data": {
      "text/plain": [
       "count    8484.000000\n",
       "mean       30.475872\n",
       "std         0.696461\n",
       "min        27.700000\n",
       "25%        30.100000\n",
       "50%        30.600000\n",
       "75%        31.000000\n",
       "max        33.400000\n",
       "Name: T_out, dtype: float64"
      ]
     },
     "execution_count": 189,
     "metadata": {},
     "output_type": "execute_result"
    }
   ],
   "source": [
    "# Our input features are [time, T_in, T_amb]\n",
    "# Our output feature is T_out\n",
    "# T_out information\n",
    "data['T_out'].describe()"
   ]
  },
  {
   "cell_type": "code",
   "execution_count": 190,
   "id": "bced7856",
   "metadata": {},
   "outputs": [
    {
     "data": {
      "text/plain": [
       "<Figure size 648x576 with 0 Axes>"
      ]
     },
     "metadata": {},
     "output_type": "display_data"
    },
    {
     "data": {
      "image/png": "[encoded data removed]",
      "text/plain": [
       "<Figure size 360x360 with 1 Axes>"
      ]
     },
     "metadata": {},
     "output_type": "display_data"
    }
   ],
   "source": [
    "#Plotting the distribution of T_out features \n",
    "plt.figure(figsize=(9,8))\n",
    "sns.displot(data['T_out'], color='g', bins=50);"
   ]
  },
  {
   "cell_type": "code",
   "execution_count": 191,
   "id": "307c1fd1",
   "metadata": {},
   "outputs": [
    {
     "data": {
      "image/png": "[encoded data removed]",
      "text/plain": [
       "<Figure size 648x576 with 4 Axes>"
      ]
     },
     "metadata": {},
     "output_type": "display_data"
    }
   ],
   "source": [
    "df_num = data.select_dtypes(include = ['float64', 'int64'])\n",
    "df_num.head()\n",
    "df_num.hist(figsize=(9, 8), bins=50, xlabelsize=8, ylabelsize=8);"
   ]
  },
  {
   "cell_type": "code",
   "execution_count": 192,
   "id": "bf0ba1ab",
   "metadata": {},
   "outputs": [
    {
     "data": {
      "text/html": [
       "<div>\n",
       "<style scoped>\n",
       "    .dataframe tbody tr th:only-of-type {\n",
       "        vertical-align: middle;\n",
       "    }\n",
       "\n",
       "    .dataframe tbody tr th {\n",
       "        vertical-align: top;\n",
       "    }\n",
       "\n",
       "    .dataframe thead th {\n",
       "        text-align: right;\n",
       "    }\n",
       "</style>\n",
       "<table border=\"1\" class=\"dataframe\">\n",
       "  <thead>\n",
       "    <tr style=\"text-align: right;\">\n",
       "      <th></th>\n",
       "      <th>time</th>\n",
       "      <th>T_in</th>\n",
       "      <th>T_amb</th>\n",
       "      <th>T_out</th>\n",
       "    </tr>\n",
       "  </thead>\n",
       "  <tbody>\n",
       "    <tr>\n",
       "      <th>time</th>\n",
       "      <td>1.000000</td>\n",
       "      <td>0.367778</td>\n",
       "      <td>0.320203</td>\n",
       "      <td>0.287119</td>\n",
       "    </tr>\n",
       "    <tr>\n",
       "      <th>T_in</th>\n",
       "      <td>0.367778</td>\n",
       "      <td>1.000000</td>\n",
       "      <td>0.527523</td>\n",
       "      <td>0.583004</td>\n",
       "    </tr>\n",
       "    <tr>\n",
       "      <th>T_amb</th>\n",
       "      <td>0.320203</td>\n",
       "      <td>0.527523</td>\n",
       "      <td>1.000000</td>\n",
       "      <td>0.448665</td>\n",
       "    </tr>\n",
       "    <tr>\n",
       "      <th>T_out</th>\n",
       "      <td>0.287119</td>\n",
       "      <td>0.583004</td>\n",
       "      <td>0.448665</td>\n",
       "      <td>1.000000</td>\n",
       "    </tr>\n",
       "  </tbody>\n",
       "</table>\n",
       "</div>"
      ],
      "text/plain": [
       "           time      T_in     T_amb     T_out\n",
       "time   1.000000  0.367778  0.320203  0.287119\n",
       "T_in   0.367778  1.000000  0.527523  0.583004\n",
       "T_amb  0.320203  0.527523  1.000000  0.448665\n",
       "T_out  0.287119  0.583004  0.448665  1.000000"
      ]
     },
     "execution_count": 192,
     "metadata": {},
     "output_type": "execute_result"
    }
   ],
   "source": [
    "#Find the Correlation between data \n",
    "#Correlation is a statistical measure that expresses the extent to which two variables are linearly related\n",
    "data.corr()"
   ]
  },
  {
   "cell_type": "code",
   "execution_count": 193,
   "id": "fdb44cb8",
   "metadata": {},
   "outputs": [
    {
     "data": {
      "text/plain": [
       "time     0.287119\n",
       "T_in     0.583004\n",
       "T_amb    0.448665\n",
       "T_out    1.000000\n",
       "Name: T_out, dtype: float64"
      ]
     },
     "execution_count": 193,
     "metadata": {},
     "output_type": "execute_result"
    }
   ],
   "source": [
    "#Correlation of T_out with the dependent features\n",
    "data.corr()['T_out']"
   ]
  },
  {
   "cell_type": "code",
   "execution_count": 194,
   "id": "d236e558",
   "metadata": {},
   "outputs": [
    {
     "data": {
      "text/plain": [
       "count    8484.000000\n",
       "mean       24.172678\n",
       "std        32.785163\n",
       "min         0.000000\n",
       "25%         6.000000\n",
       "50%        14.000000\n",
       "75%        29.000000\n",
       "max       276.000000\n",
       "Name: time, dtype: float64"
      ]
     },
     "execution_count": 194,
     "metadata": {},
     "output_type": "execute_result"
    }
   ],
   "source": [
    "data['time']= data['time']/10;\n",
    "data['time'].describe()"
   ]
  },
  {
   "cell_type": "code",
   "execution_count": 15,
   "id": "03f899fa",
   "metadata": {},
   "outputs": [
    {
     "name": "stdout",
     "output_type": "stream",
     "text": [
      "0.0\n",
      "0.0\n",
      "0.0\n"
     ]
    }
   ],
   "source": [
    "#Finding p-values\n",
    "from scipy import stats\n",
    "r1,p1 = stats.pearsonr(data.time, data.T_out)\n",
    "r2,p2= stats.pearsonr(data.T_in, data.T_out)\n",
    "r3, p3= stats.pearsonr(data.T_amb, data.T_out)\n",
    "print(round(p1,15))\n",
    "print(round(p2,15))\n",
    "print(round(p3,15))"
   ]
  },
  {
   "cell_type": "code",
   "execution_count": 16,
   "id": "ad292683",
   "metadata": {},
   "outputs": [],
   "source": [
    "#from the correlation values and p-values we find that all the features are important"
   ]
  },
  {
   "cell_type": "code",
   "execution_count": 18,
   "id": "528cfc1e",
   "metadata": {},
   "outputs": [
    {
     "data": {
      "text/plain": [
       "<AxesSubplot:>"
      ]
     },
     "execution_count": 18,
     "metadata": {},
     "output_type": "execute_result"
    },
    {
     "data": {
      "image/png": "[encoded data removed]",
      "text/plain": [
       "<Figure size 720x576 with 2 Axes>"
      ]
     },
     "metadata": {
      "needs_background": "light"
     },
     "output_type": "display_data"
    }
   ],
   "source": [
    "#HeatMap of correlation values\n",
    "f, ax = plt.subplots(figsize=(10, 8))\n",
    "corr = data.corr()\n",
    "sns.heatmap(corr, mask=np.zeros_like(corr, dtype=bool), cmap=sns.diverging_palette(240,10,as_cmap=True),\n",
    "            square=True, ax=ax)"
   ]
  },
  {
   "cell_type": "code",
   "execution_count": 19,
   "id": "0c2bd819",
   "metadata": {},
   "outputs": [
    {
     "data": {
      "text/plain": [
       "<seaborn.axisgrid.PairGrid at 0x269908975b0>"
      ]
     },
     "execution_count": 19,
     "metadata": {},
     "output_type": "execute_result"
    },
    {
     "data": {
      "image/png": "[encoded data removed]",
      "text/plain": [
       "<Figure size 540x180 with 3 Axes>"
      ]
     },
     "metadata": {
      "needs_background": "light"
     },
     "output_type": "display_data"
    }
   ],
   "source": [
    "#Using seaborn library to plot the data \n",
    "sns.pairplot(\n",
    "    data,\n",
    "    x_vars=[\"time\", \"T_in\", \"T_amb\"],\n",
    "    y_vars=[\"T_out\"],\n",
    ")"
   ]
  },
  {
   "cell_type": "markdown",
   "id": "74404f5b",
   "metadata": {},
   "source": [
    "# DATA FOR MODEL"
   ]
  },
  {
   "cell_type": "code",
   "execution_count": 21,
   "id": "d565ba3e",
   "metadata": {},
   "outputs": [],
   "source": [
    "X,y=  data[['time', 'T_in', 'T_amb']], data[['T_out']]"
   ]
  },
  {
   "cell_type": "code",
   "execution_count": 22,
   "id": "9cf37614",
   "metadata": {},
   "outputs": [],
   "source": [
    "#Standardising the data\n",
    "from sklearn.preprocessing import StandardScaler\n",
    "sc_X = StandardScaler()\n",
    "sc_y = StandardScaler()\n",
    "X = sc_X.fit_transform(X)\n",
    "y= sc_y.fit_transform(y)"
   ]
  },
  {
   "cell_type": "code",
   "execution_count": 23,
   "id": "f2bac622",
   "metadata": {},
   "outputs": [],
   "source": [
    "#split the data into training and testing data : 70:30\n",
    "from sklearn.model_selection import train_test_split\n",
    "X_train, X_test, y_train, y_test = train_test_split(X, y, test_size=0.3, random_state=0)"
   ]
  },
  {
   "cell_type": "markdown",
   "id": "6234f1b7",
   "metadata": {},
   "source": [
    "# Model 1: Linear Regression"
   ]
  },
  {
   "cell_type": "code",
   "execution_count": 27,
   "id": "acb7ae1b",
   "metadata": {},
   "outputs": [
    {
     "data": {
      "text/plain": [
       "LinearRegression()"
      ]
     },
     "execution_count": 27,
     "metadata": {},
     "output_type": "execute_result"
    }
   ],
   "source": [
    "from sklearn.linear_model import LinearRegression\n",
    "model = LinearRegression()\n",
    "#fit the training data into the data\n",
    "model.fit(X_train, y_train)"
   ]
  },
  {
   "cell_type": "code",
   "execution_count": 29,
   "id": "627d9467",
   "metadata": {},
   "outputs": [],
   "source": [
    "# finding the predicted y for the testing data \n",
    "y_test_pred = model.predict(X_test)"
   ]
  },
  {
   "cell_type": "code",
   "execution_count": 30,
   "id": "f08fdd74",
   "metadata": {},
   "outputs": [],
   "source": [
    "#Evaluating model's performance \n",
    "from sklearn.metrics import mean_squared_error, r2_score"
   ]
  },
  {
   "cell_type": "code",
   "execution_count": 35,
   "id": "4870c25e",
   "metadata": {},
   "outputs": [
    {
     "name": "stdout",
     "output_type": "stream",
     "text": [
      "Coefficients: [[0.0545253  0.46488366 0.18669734]]\n",
      "Intercept: [0.00592974]\n",
      "Root Mean squared error (MSE): 0.78\n",
      "Coefficient of determination (R^2): 0.38\n"
     ]
    }
   ],
   "source": [
    "print('Coefficients:', model.coef_)\n",
    "print('Intercept:', model.intercept_)\n",
    "import math\n",
    "print('Root Mean squared error (RMSE): %.2f'\n",
    "      % math.sqrt(mean_squared_error(y_test, y_test_pred) ) )\n",
    "print('Coefficient of determination (R^2): %.2f'\n",
    "      % r2_score(y_test, y_test_pred))"
   ]
  },
  {
   "cell_type": "code",
   "execution_count": 44,
   "id": "42ae0eef",
   "metadata": {},
   "outputs": [
    {
     "data": {
      "text/plain": [
       "((2546, 1), (2546, 1))"
      ]
     },
     "execution_count": 44,
     "metadata": {},
     "output_type": "execute_result"
    }
   ],
   "source": [
    "y_test.shape, y_test_pred.shape"
   ]
  },
  {
   "cell_type": "markdown",
   "id": "37c5e961",
   "metadata": {},
   "source": [
    "# Model 2: Polynomial Regression"
   ]
  },
  {
   "cell_type": "code",
   "execution_count": 59,
   "id": "ad9fb0fe",
   "metadata": {},
   "outputs": [],
   "source": [
    "from sklearn.preprocessing import PolynomialFeatures"
   ]
  },
  {
   "cell_type": "code",
   "execution_count": 98,
   "id": "9cc9556e",
   "metadata": {},
   "outputs": [],
   "source": [
    "degree=5\n",
    "transformer = PolynomialFeatures(degree, include_bias=False)"
   ]
  },
  {
   "cell_type": "code",
   "execution_count": 99,
   "id": "84913a92",
   "metadata": {},
   "outputs": [
    {
     "data": {
      "text/plain": [
       "PolynomialFeatures(degree=5, include_bias=False)"
      ]
     },
     "execution_count": 99,
     "metadata": {},
     "output_type": "execute_result"
    }
   ],
   "source": [
    "transformer.fit(X_train)"
   ]
  },
  {
   "cell_type": "code",
   "execution_count": 100,
   "id": "c6ea0f2a",
   "metadata": {},
   "outputs": [],
   "source": [
    " x_ = PolynomialFeatures(degree, include_bias=False).fit_transform(X_train)\n",
    " x_test=PolynomialFeatures(degree, include_bias=False).fit_transform(X_test)\n",
    " model2 = LinearRegression().fit(x_, y_train)\n",
    "y_test_pred= model2.predict(x_test)"
   ]
  },
  {
   "cell_type": "code",
   "execution_count": 101,
   "id": "8c929d5a",
   "metadata": {},
   "outputs": [
    {
     "name": "stdout",
     "output_type": "stream",
     "text": [
      "Coefficients: [[ 4.67118540e-01  4.86215686e-01  1.33895564e-01  1.47553735e+00\n",
      "  -6.90531699e-01  1.10161349e+00  1.85788599e-01  7.20950404e-01\n",
      "  -6.80228138e-01 -5.90067814e-01 -6.94109637e-01 -2.15461953e-01\n",
      "   5.12968858e-01 -1.16759197e-01 -1.22637168e+00 -5.60154587e-02\n",
      "   5.72283172e-03  1.35640694e-01  1.96084374e-01  4.87702674e-02\n",
      "   5.87320615e-01  2.19557789e-01 -9.72897580e-01 -1.29486467e+00\n",
      "  -4.26890624e-01  2.82733143e-01  2.97166990e-01  4.76031320e-01\n",
      "  -1.10801635e-01 -8.89171354e-02 -9.53335167e-02  9.42288435e-02\n",
      "  -3.36934687e-01  1.74297880e-01  7.80403435e-04 -4.93631134e-02\n",
      "  -2.84477598e-02 -1.46278649e-02  2.45296644e-02  4.67100497e-02\n",
      "   2.99393647e-01  3.94463700e-01  4.42433157e-01  9.14686422e-02\n",
      "  -2.22184851e-01  4.91914810e-02  1.84729532e-01 -5.77468088e-01\n",
      "   3.07135240e-01  1.51109256e-02 -1.82684384e-02 -4.95558223e-02\n",
      "   7.67579750e-02 -9.28142901e-02 -2.95952086e-03]]\n",
      "Intercept: [-0.01582727]\n",
      "Root Mean squared error (MSE): 0.56\n",
      "Coefficient of determination (R^2): 0.68\n"
     ]
    }
   ],
   "source": [
    "print('Coefficients:', model2.coef_)\n",
    "print('Intercept:', model2.intercept_)\n",
    "import math\n",
    "print('Root Mean squared error (RMSE): %.2f'\n",
    "      % math.sqrt(mean_squared_error(y_test, y_test_pred) ) )\n",
    "print('Coefficient of determination (R^2): %.2f'\n",
    "      % r2_score(y_test, y_test_pred))"
   ]
  },
  {
   "cell_type": "markdown",
   "id": "14b26bd8",
   "metadata": {},
   "source": [
    "# Model 3: Random Forest Regressor"
   ]
  },
  {
   "cell_type": "code",
   "execution_count": 102,
   "id": "9530777a",
   "metadata": {},
   "outputs": [],
   "source": [
    "from sklearn.ensemble import RandomForestRegressor"
   ]
  },
  {
   "cell_type": "code",
   "execution_count": 122,
   "id": "a329d14c",
   "metadata": {},
   "outputs": [
    {
     "name": "stderr",
     "output_type": "stream",
     "text": [
      "C:\\Users\\Yatin Mittal\\AppData\\Local\\Temp\\ipykernel_27188\\3898506524.py:2: DataConversionWarning: A column-vector y was passed when a 1d array was expected. Please change the shape of y to (n_samples,), for example using ravel().\n",
      "  reg.fit(X_train, y_train)\n"
     ]
    },
    {
     "data": {
      "text/plain": [
       "RandomForestRegressor(max_depth=7, random_state=0)"
      ]
     },
     "execution_count": 122,
     "metadata": {},
     "output_type": "execute_result"
    }
   ],
   "source": [
    " reg= RandomForestRegressor(max_depth=7, random_state=0, n_estimators=100)\n",
    " reg.fit(X_train, y_train)"
   ]
  },
  {
   "cell_type": "code",
   "execution_count": 123,
   "id": "d34ac58d",
   "metadata": {},
   "outputs": [],
   "source": [
    "y_test_pred = reg.predict(X_test)"
   ]
  },
  {
   "cell_type": "code",
   "execution_count": 124,
   "id": "59996d3a",
   "metadata": {},
   "outputs": [
    {
     "name": "stdout",
     "output_type": "stream",
     "text": [
      "Root Mean squared error (MSE): 0.48\n",
      "Coefficient of determination (R^2): 0.77\n"
     ]
    }
   ],
   "source": [
    "import math\n",
    "print('Root Mean squared error (RMSE): %.2f'\n",
    "      % math.sqrt(mean_squared_error(y_test, y_test_pred) ) )\n",
    "print('Coefficient of determination (R^2): %.2f'\n",
    "      % r2_score(y_test, y_test_pred))"
   ]
  },
  {
   "cell_type": "markdown",
   "id": "328f7976",
   "metadata": {},
   "source": [
    "# Model 4: XGBoost"
   ]
  },
  {
   "cell_type": "code",
   "execution_count": 126,
   "id": "e7b48829",
   "metadata": {},
   "outputs": [
    {
     "name": "stdout",
     "output_type": "stream",
     "text": [
      "Requirement already satisfied: xgboost in c:\\users\\yatin mittal\\anaconda3\\lib\\site-packages (1.7.1)\n",
      "Requirement already satisfied: scipy in c:\\users\\yatin mittal\\anaconda3\\lib\\site-packages (from xgboost) (1.7.3)\n",
      "Requirement already satisfied: numpy in c:\\users\\yatin mittal\\anaconda3\\lib\\site-packages (from xgboost) (1.21.5)\n"
     ]
    }
   ],
   "source": [
    "!pip install xgboost"
   ]
  },
  {
   "cell_type": "code",
   "execution_count": 127,
   "id": "977cca4f",
   "metadata": {},
   "outputs": [],
   "source": [
    "import xgboost as xg"
   ]
  },
  {
   "cell_type": "code",
   "execution_count": 144,
   "id": "faeedab7",
   "metadata": {},
   "outputs": [],
   "source": [
    "xgb_r = xg.XGBRegressor(n_estimators=100, max_depth=6)"
   ]
  },
  {
   "cell_type": "code",
   "execution_count": 145,
   "id": "0fa7758d",
   "metadata": {},
   "outputs": [
    {
     "data": {
      "text/plain": [
       "XGBRegressor(base_score=0.5, booster='gbtree', callbacks=None,\n",
       "             colsample_bylevel=1, colsample_bynode=1, colsample_bytree=1,\n",
       "             early_stopping_rounds=None, enable_categorical=False,\n",
       "             eval_metric=None, feature_types=None, gamma=0, gpu_id=-1,\n",
       "             grow_policy='depthwise', importance_type=None,\n",
       "             interaction_constraints='', learning_rate=0.300000012, max_bin=256,\n",
       "             max_cat_threshold=64, max_cat_to_onehot=4, max_delta_step=0,\n",
       "             max_depth=6, max_leaves=0, min_child_weight=1, missing=nan,\n",
       "             monotone_constraints='()', n_estimators=100, n_jobs=0,\n",
       "             num_parallel_tree=1, predictor='auto', random_state=0, ...)"
      ]
     },
     "execution_count": 145,
     "metadata": {},
     "output_type": "execute_result"
    }
   ],
   "source": [
    "xgb_r.fit(X_train, y_train)"
   ]
  },
  {
   "cell_type": "code",
   "execution_count": 146,
   "id": "b5ba8697",
   "metadata": {},
   "outputs": [],
   "source": [
    "y_test_pred = xgb_r.predict(X_test)"
   ]
  },
  {
   "cell_type": "code",
   "execution_count": 176,
   "id": "152268a0",
   "metadata": {},
   "outputs": [
    {
     "name": "stdout",
     "output_type": "stream",
     "text": [
      "Requirement already satisfied: yellowbrick in c:\\users\\yatin mittal\\anaconda3\\lib\\site-packages (1.5)\n",
      "Requirement already satisfied: numpy>=1.16.0 in c:\\users\\yatin mittal\\anaconda3\\lib\\site-packages (from yellowbrick) (1.21.5)\n",
      "Requirement already satisfied: cycler>=0.10.0 in c:\\users\\yatin mittal\\anaconda3\\lib\\site-packages (from yellowbrick) (0.11.0)\n",
      "Requirement already satisfied: scipy>=1.0.0 in c:\\users\\yatin mittal\\anaconda3\\lib\\site-packages (from yellowbrick) (1.7.3)\n",
      "Requirement already satisfied: matplotlib!=3.0.0,>=2.0.2 in c:\\users\\yatin mittal\\anaconda3\\lib\\site-packages (from yellowbrick) (3.5.1)\n",
      "Requirement already satisfied: scikit-learn>=1.0.0 in c:\\users\\yatin mittal\\anaconda3\\lib\\site-packages (from yellowbrick) (1.0.2)\n",
      "Requirement already satisfied: fonttools>=4.22.0 in c:\\users\\yatin mittal\\anaconda3\\lib\\site-packages (from matplotlib!=3.0.0,>=2.0.2->yellowbrick) (4.25.0)\n",
      "Requirement already satisfied: pyparsing>=2.2.1 in c:\\users\\yatin mittal\\anaconda3\\lib\\site-packages (from matplotlib!=3.0.0,>=2.0.2->yellowbrick) (3.0.4)\n",
      "Requirement already satisfied: packaging>=20.0 in c:\\users\\yatin mittal\\anaconda3\\lib\\site-packages (from matplotlib!=3.0.0,>=2.0.2->yellowbrick) (21.3)\n",
      "Requirement already satisfied: pillow>=6.2.0 in c:\\users\\yatin mittal\\anaconda3\\lib\\site-packages (from matplotlib!=3.0.0,>=2.0.2->yellowbrick) (9.2.0)\n",
      "Requirement already satisfied: python-dateutil>=2.7 in c:\\users\\yatin mittal\\anaconda3\\lib\\site-packages (from matplotlib!=3.0.0,>=2.0.2->yellowbrick) (2.8.2)\n",
      "Requirement already satisfied: kiwisolver>=1.0.1 in c:\\users\\yatin mittal\\anaconda3\\lib\\site-packages (from matplotlib!=3.0.0,>=2.0.2->yellowbrick) (1.4.2)\n",
      "Requirement already satisfied: joblib>=0.11 in c:\\users\\yatin mittal\\anaconda3\\lib\\site-packages (from scikit-learn>=1.0.0->yellowbrick) (1.1.0)\n",
      "Requirement already satisfied: threadpoolctl>=2.0.0 in c:\\users\\yatin mittal\\anaconda3\\lib\\site-packages (from scikit-learn>=1.0.0->yellowbrick) (2.2.0)\n",
      "Requirement already satisfied: six>=1.5 in c:\\users\\yatin mittal\\anaconda3\\lib\\site-packages (from python-dateutil>=2.7->matplotlib!=3.0.0,>=2.0.2->yellowbrick) (1.16.0)\n"
     ]
    }
   ],
   "source": [
    "!pip install yellowbrick"
   ]
  },
  {
   "cell_type": "code",
   "execution_count": 159,
   "id": "e2a3eeb4",
   "metadata": {},
   "outputs": [],
   "source": [
    "from yellowbrick.regressor import prediction_error"
   ]
  },
  {
   "cell_type": "code",
   "execution_count": 160,
   "id": "6771a1e4",
   "metadata": {},
   "outputs": [
    {
     "name": "stdout",
     "output_type": "stream",
     "text": [
      "Root Mean squared error (MSE): 0.36\n",
      "Coefficient of determination (R^2): 0.87\n",
      "\n",
      "Prediction Error Plot\n"
     ]
    },
    {
     "data": {
      "image/png": "[encoded data removed]",
      "text/plain": [
       "<Figure size 576x396 with 1 Axes>"
      ]
     },
     "metadata": {},
     "output_type": "display_data"
    },
    {
     "name": "stdout",
     "output_type": "stream",
     "text": [
      "PredictionError(ax=<AxesSubplot:title={'center':'Prediction Error for XGBRegressor'}, xlabel='$y$', ylabel='$\\\\hat{y}$'>,\n",
      "                estimator=XGBRegressor(base_score=0.5, booster='gbtree',\n",
      "                                       callbacks=None, colsample_bylevel=1,\n",
      "                                       colsample_bynode=1, colsample_bytree=1,\n",
      "                                       early_stopping_rounds=None,\n",
      "                                       enable_categorical=False,\n",
      "                                       eval_metric=None, feature_types=None,\n",
      "                                       gamma=0, gpu_id=-1,\n",
      "                                       grow_policy='depthwise',\n",
      "                                       importance_type=None,\n",
      "                                       interaction_constraints='',\n",
      "                                       learning_rate=0.300000012, max_bin=256,\n",
      "                                       max_cat_threshold=64,\n",
      "                                       max_cat_to_onehot=4, max_delta_step=0,\n",
      "                                       max_depth=6, max_leaves=0,\n",
      "                                       min_child_weight=1, missing=nan,\n",
      "                                       monotone_constraints='()',\n",
      "                                       n_estimators=100, n_jobs=0,\n",
      "                                       num_parallel_tree=1, predictor='auto',\n",
      "                                       random_state=0, ...))\n"
     ]
    }
   ],
   "source": [
    "import math\n",
    "print('Root Mean squared error (RMSE): %.2f'\n",
    "      % math.sqrt(mean_squared_error(y_test, y_test_pred) ) )\n",
    "print('Coefficient of determination (R^2): %.2f'\n",
    "      % r2_score(y_test, y_test_pred))\n",
    "# Making the Prediction Error Plot\n",
    "print(\"\\nPrediction Error Plot\")\n",
    "print(prediction_error(xgb_r, X_train, y_train, X_test, y_test))\n"
   ]
  },
  {
   "cell_type": "markdown",
   "id": "31be0cc3",
   "metadata": {},
   "source": [
    "# Model 5- SVM "
   ]
  },
  {
   "cell_type": "code",
   "execution_count": 169,
   "id": "c799c454",
   "metadata": {},
   "outputs": [],
   "source": [
    "from sklearn.svm import SVR\n",
    "from sklearn.multioutput import MultiOutputRegressor\n",
    "from sklearn.linear_model import Ridge"
   ]
  },
  {
   "cell_type": "code",
   "execution_count": 173,
   "id": "9da9fc3f",
   "metadata": {},
   "outputs": [
    {
     "data": {
      "text/plain": [
       "MultiOutputRegressor(estimator=SVR())"
      ]
     },
     "execution_count": 173,
     "metadata": {},
     "output_type": "execute_result"
    }
   ],
   "source": [
    "model5 = MultiOutputRegressor(SVR())\n",
    "model5.fit(X_train, y_train)"
   ]
  },
  {
   "cell_type": "code",
   "execution_count": 174,
   "id": "347c4031",
   "metadata": {},
   "outputs": [],
   "source": [
    "y_test_pred = model5.predict(X_test)"
   ]
  },
  {
   "cell_type": "code",
   "execution_count": 175,
   "id": "afcf05b4",
   "metadata": {},
   "outputs": [
    {
     "name": "stdout",
     "output_type": "stream",
     "text": [
      "Root Mean squared error (RMSE): 0.55\n",
      "Coefficient of determination (R^2): 0.69\n"
     ]
    }
   ],
   "source": [
    "import math\n",
    "print('Root Mean squared error (RMSE): %.2f'\n",
    "      % math.sqrt(mean_squared_error(y_test, y_test_pred) ) )\n",
    "print('Coefficient of determination (R^2): %.2f'\n",
    "      % r2_score(y_test, y_test_pred))"
   ]
  }
 ],
 "metadata": {
  "kernelspec": {
   "display_name": "Python 3 (ipykernel)",
   "language": "python",
   "name": "python3"
  },
  "language_info": {
   "codemirror_mode": {
    "name": "ipython",
    "version": 3
   },
   "file_extension": ".py",
   "mimetype": "text/x-python",
   "name": "python",
   "nbconvert_exporter": "python",
   "pygments_lexer": "ipython3",
   "version": "3.9.7"
  }
 },
 "nbformat": 4,
 "nbformat_minor": 5
}
